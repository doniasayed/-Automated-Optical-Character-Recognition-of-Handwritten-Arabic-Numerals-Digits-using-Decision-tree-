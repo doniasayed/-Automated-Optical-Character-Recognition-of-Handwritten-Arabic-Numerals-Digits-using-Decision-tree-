{
  "nbformat": 4,
  "nbformat_minor": 0,
  "metadata": {
    "colab": {
      "provenance": [],
      "toc_visible": true,
      "include_colab_link": true
    },
    "kernelspec": {
      "name": "python3",
      "display_name": "Python 3"
    },
    "language_info": {
      "name": "python"
    }
  },
  "cells": [
    {
      "cell_type": "markdown",
      "metadata": {
        "id": "view-in-github",
        "colab_type": "text"
      },
      "source": [
        "<a href=\"https://colab.research.google.com/github/doniasayed/-Automated-Optical-Character-Recognition-of-Handwritten-Arabic-Numerals-Digits-using-Decision-tree-/blob/main/Task.ipynb\" target=\"_parent\"><img src=\"https://colab.research.google.com/assets/colab-badge.svg\" alt=\"Open In Colab\"/></a>"
      ]
    },
    {
      "cell_type": "code",
      "execution_count": 1,
      "metadata": {
        "id": "SEYV27JdAl3K"
      },
      "outputs": [],
      "source": [
        "#import Libraries\n",
        "import numpy as np\n",
        "from sklearn.decomposition import PCA\n",
        "from scipy.stats import zscore\n",
        "import time\n",
        "import scipy.special\n",
        "from scipy.special import gamma, gammaln\n",
        "from scipy.stats import mode\n",
        "from scipy.stats import mode\n",
        "from sklearn.preprocessing import StandardScaler,normalize\n",
        "from sklearn.decomposition import PCA\n",
        "import scipy.io\n",
        "from sklearn.metrics import accuracy_score, f1_score, precision_score, recall_score\n",
        "from sklearn.model_selection import train_test_split\n",
        "from sklearn.linear_model import Ridge\n",
        "from scipy.linalg import block_diag\n",
        "import argparse"
      ]
    },
    {
      "cell_type": "code",
      "source": [
        "print('hello')"
      ],
      "metadata": {
        "colab": {
          "base_uri": "https://localhost:8080/"
        },
        "id": "ThuC6Xo1FQku",
        "outputId": "802a0bd6-5ded-4832-9bdb-e4f38a3e7209"
      },
      "execution_count": 2,
      "outputs": [
        {
          "output_type": "stream",
          "name": "stdout",
          "text": [
            "hello\n"
          ]
        }
      ]
    },
    {
      "cell_type": "code",
      "source": [
        "print('Ahmed')"
      ],
      "metadata": {
        "id": "XYKgJOsqIHP2",
        "outputId": "a4cbd9e1-0e54-4212-c5f3-19b8101a604d",
        "colab": {
          "base_uri": "https://localhost:8080/"
        }
      },
      "execution_count": 3,
      "outputs": [
        {
          "output_type": "stream",
          "name": "stdout",
          "text": [
            "Ahmed\n"
          ]
        }
      ]
    },
    {
      "cell_type": "code",
      "source": [
        "print('emmmmmmmmm')"
      ],
      "metadata": {
        "colab": {
          "base_uri": "https://localhost:8080/"
        },
        "id": "H1tJJ1zHJtkf",
        "outputId": "c82fd5f8-bbd3-41f3-d68e-0f6be6e41eca"
      },
      "execution_count": 4,
      "outputs": [
        {
          "output_type": "stream",
          "name": "stdout",
          "text": [
            "emmmmmmmmm\n"
          ]
        }
      ]
    }
  ]
}